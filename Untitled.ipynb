{
 "cells": [
  {
   "cell_type": "code",
   "execution_count": 8,
   "metadata": {},
   "outputs": [
    {
     "ename": "SyntaxError",
     "evalue": "unmatched ')' (<ipython-input-8-0ae45b052915>, line 51)",
     "output_type": "error",
     "traceback": [
      "\u001b[1;36m  File \u001b[1;32m\"<ipython-input-8-0ae45b052915>\"\u001b[1;36m, line \u001b[1;32m51\u001b[0m\n\u001b[1;33m    matplotlib.ticker.FuncFormatter(lambda x, p: format(int(x), ',')))\u001b[0m\n\u001b[1;37m                                                                     ^\u001b[0m\n\u001b[1;31mSyntaxError\u001b[0m\u001b[1;31m:\u001b[0m unmatched ')'\n"
     ]
    }
   ],
   "source": [
    "import numpy as np # linear algebra\n",
    "import pandas as pd # data processing, CSV file I/O (e.g. pd.read_csv)\n",
    "import warnings\n",
    "import matplotlib.pyplot as plt\n",
    "warnings.filterwarnings('ignore')\n",
    "from bokeh.plotting import figure, show, output_file, output_notebook\n",
    "from bokeh.palettes import Spectral11, colorblind, Inferno, BuGn, brewer\n",
    "from bokeh.models import HoverTool, value, LabelSet, Legend, ColumnDataSource,LinearColorMapper,BasicTicker, PrintfTickFormatter, ColorBar\n",
    "import datetime\n",
    "from bokeh.io import show\n",
    "from bokeh.models import CustomJS, Dropdown\n",
    "\n",
    "\n",
    "# Input data files are available in the \"../input/\" directory.\n",
    "# For example, running this (by clicking run or pressing Shift+Enter) will list the files in the input directory\n",
    "\n",
    "import os\n",
    "\n",
    "data = pd.read_csv('taxthing4.csv', parse_dates=['Date'])\n",
    "data.head()\n",
    "data.Date.min(), data.Date.max()\n",
    "data.incomesize2.value_counts()\n",
    "data['Year'] = data.Date.apply(lambda x: x.year)\n",
    "data['Month'] = data.Date.apply(lambda x: x.month)\n",
    "data.head()\n",
    "wide = data.pivot(index='Date', columns='incomesize2', values='PartnershipAndScorpNetIncomeTotal')\n",
    "wide.reset_index(inplace=True)\n",
    "wide['Year'] = wide.Date.apply(lambda x: x.year)\n",
    "wide['Month'] = wide.Date.apply(lambda x: x.month)\n",
    "\n",
    "temp_df = wide.groupby(['Year']).sum().reset_index()\n",
    "temp_df.head()\n",
    "cats = ['0 to 50k','50k to 200k','200k to 1mil','1mil and up'] \n",
    "temp_df.drop(['Month'], axis = 1, inplace=True)\n",
    "temp_df.head()\n",
    "TOOLS = \"save,pan,box_zoom,reset,wheel_zoom,tap\"\n",
    "\n",
    "source = ColumnDataSource(data=temp_df)\n",
    "p = figure( plot_width=800, title=\"1040D Taxable Net Gain Total\",toolbar_location='above', tools=TOOLS)\n",
    "colors = brewer['Dark2'][4]\n",
    "\n",
    "p.vbar_stack(cats, x='Year', width=0.9, color=colors, source=source,\n",
    "             legend=[value(x) for x in cats])\n",
    "\n",
    "p.y_range.start = 0\n",
    "p.x_range.range_padding = 0.1\n",
    "p.xgrid.grid_line_color = None\n",
    "p.axis.minor_tick_line_color = None\n",
    "p.outline_line_color = None\n",
    "p.yaxis.formatter.use_scientific = False\n",
    "matplotlib.ticker.FuncFormatter(lambda x, p: format(int(x), ',')))\n",
    "p.xaxis.axis_label = 'Year'\n",
    "p.yaxis.axis_label = 'USD'\n",
    "p.legend.location = \"top_left\"\n",
    "p.legend.orientation = \"horizontal\"\n",
    "\n",
    "output_file(\"stacked_bar.html\", title=\"Stacked Bar Chart\")\n",
    "\n",
    "show(p)\n",
    "\n",
    "output_file(\"barchart.html\", title=\"barchart\")\n",
    "show(p)"
   ]
  },
  {
   "cell_type": "code",
   "execution_count": 8,
   "metadata": {
    "scrolled": false
   },
   "outputs": [
    {
     "data": {
      "text/plain": [
       "(Timestamp('2005-01-01 00:00:00'), Timestamp('2018-01-01 00:00:00'))"
      ]
     },
     "execution_count": 8,
     "metadata": {},
     "output_type": "execute_result"
    }
   ],
   "source": [
    "import numpy as np # linear algebra\n",
    "import pandas as pd # data processing, CSV file I/O (e.g. pd.read_csv)\n",
    "import warnings\n",
    "warnings.filterwarnings('ignore')\n",
    "from bokeh.plotting import figure, show, output_file, output_notebook\n",
    "from bokeh.palettes import Spectral11, colorblind, Inferno, BuGn, brewer\n",
    "from bokeh.models import HoverTool, value, LabelSet, Legend, ColumnDataSource,LinearColorMapper,BasicTicker, PrintfTickFormatter, ColorBar\n",
    "import datetime\n",
    "\n",
    "# Input data files are available in the \"../input/\" directory.\n",
    "# For example, running this (by clicking run or pressing Shift+Enter) will list the files in the input directory\n",
    "\n",
    "import os\n",
    "data = pd.read_csv('taxthing3.csv', parse_dates=['Date'])\n",
    "data.head()\n",
    "data.Date.min(), data.Date.max()"
   ]
  },
  {
   "cell_type": "code",
   "execution_count": null,
   "metadata": {},
   "outputs": [],
   "source": []
  }
 ],
 "metadata": {
  "kernelspec": {
   "display_name": "Python 3",
   "language": "python",
   "name": "python3"
  },
  "language_info": {
   "codemirror_mode": {
    "name": "ipython",
    "version": 3
   },
   "file_extension": ".py",
   "mimetype": "text/x-python",
   "name": "python",
   "nbconvert_exporter": "python",
   "pygments_lexer": "ipython3",
   "version": "3.8.5"
  }
 },
 "nbformat": 4,
 "nbformat_minor": 4
}
